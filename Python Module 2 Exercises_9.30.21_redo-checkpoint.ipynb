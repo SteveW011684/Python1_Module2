{
 "cells": [
  {
   "cell_type": "markdown",
   "metadata": {},
   "source": [
    "1. Print out a data type of a variable?"
   ]
  },
  {
   "cell_type": "code",
   "execution_count": 2,
   "metadata": {},
   "outputs": [
    {
     "data": {
      "text/plain": [
       "float"
      ]
     },
     "execution_count": 2,
     "metadata": {},
     "output_type": "execute_result"
    }
   ],
   "source": [
    "type(123.45)"
   ]
  },
  {
   "cell_type": "markdown",
   "metadata": {},
   "source": [
    "2. Round 4.5667 to the nearest hundreth using a build-in function, round()."
   ]
  },
  {
   "cell_type": "code",
   "execution_count": 3,
   "metadata": {},
   "outputs": [
    {
     "name": "stdout",
     "output_type": "stream",
     "text": [
      "4.57\n"
     ]
    }
   ],
   "source": [
    "print(round(4.5667,2))"
   ]
  },
  {
   "cell_type": "markdown",
   "metadata": {},
   "source": [
    "3. Convert \"657\" to an integer data type"
   ]
  },
  {
   "cell_type": "code",
   "execution_count": 4,
   "metadata": {},
   "outputs": [
    {
     "name": "stdout",
     "output_type": "stream",
     "text": [
      "<class 'int'>\n",
      "<class 'str'>\n"
     ]
    }
   ],
   "source": [
    "num = 657\n",
    "print(type(num))\n",
    "converted_num=str(num)\n",
    "print(type(converted_num))"
   ]
  },
  {
   "cell_type": "markdown",
   "metadata": {},
   "source": [
    "4. Write a function to calculate the miles per gallon.\n",
    "Get a miles driven and gallons used from a user and call your function to calculate the miles per gallon. "
   ]
  },
  {
   "cell_type": "code",
   "execution_count": 18,
   "metadata": {},
   "outputs": [
    {
     "name": "stdout",
     "output_type": "stream",
     "text": [
      "10.0\n"
     ]
    }
   ],
   "source": [
    "#calc miles per gallon for question 4\n",
    "\n",
    "def mpgfunc(m,g) :\n",
    "    mpg = m/g\n",
    "    return mpg\n",
    "retval1 = mpgfunc(100,10)\n",
    "print(retval1)"
   ]
  },
  {
   "cell_type": "markdown",
   "metadata": {},
   "source": [
    "5. Enhance your function from exercise 3. Additionally, get a gas price per gallon from a user and write a program to compute the total gas cost and cost per mile. \n",
    "\n",
    "The output should look something like this:\n",
    "\n",
    "    Enter miles driven:            150\n",
    "    Enter gallons of gas used:     15\n",
    "    Enter cost per gallon:          3\n",
    "\n",
    "    Miles Per Gallon:   10.0\n",
    "    Total Gas Cost:     45.0\n",
    "    Cost per Mile:      0.3\n"
   ]
  },
  {
   "cell_type": "code",
   "execution_count": 59,
   "metadata": {},
   "outputs": [],
   "source": [
    "#Answer to 5, part A\n",
    "\n",
    "def func_mpg(a, b):\n",
    "    return a / b\n",
    "def func_cost(a, b):\n",
    "    return a * b\n",
    "def func_cpm(a, b, c):\n",
    "    return a / (b / c)\n",
    "\n",
    "\n",
    "    "
   ]
  },
  {
   "cell_type": "code",
   "execution_count": 61,
   "metadata": {},
   "outputs": [
    {
     "name": "stdout",
     "output_type": "stream",
     "text": [
      "Enter miles driven: 150\n",
      "Etner gallons of gas used: 15\n",
      "Enter cost per gallon: 3\n",
      "Miles Per Gallon: 10.0\n",
      "Total Gas Cost: $45.0\n",
      "Cost per Mile: 0.3\n"
     ]
    }
   ],
   "source": [
    "#Answer to 5, part B\n",
    "\n",
    "m = float( input( \"Enter miles driven: \") )\n",
    "g = float( input( \"Etner gallons of gas used: \") )\n",
    "d = float( input( \"Enter cost per gallon: \") )\n",
    "\n",
    "ResultA = func_mpg(m, g)\n",
    "ResultB = func_cost(g, d)\n",
    "ResultC = func_cpm(d, m, g)\n",
    "print(f\"Miles Per Gallon: {ResultA}\")\n",
    "print(f\"Total Gas Cost: ${ResultB}\")\n",
    "print(f\"Cost per Mile: {ResultC}\")"
   ]
  },
  {
   "cell_type": "markdown",
   "metadata": {},
   "source": [
    "6. Write a function called multiply_two() that accepts two parameters. The function should print a message like '15 + 2 = 17'.  Randomly generate two numbers between 1 and 100, then call the function with the two random numbers."
   ]
  },
  {
   "cell_type": "code",
   "execution_count": 62,
   "metadata": {},
   "outputs": [
    {
     "name": "stdout",
     "output_type": "stream",
     "text": [
      "100 + 37 = 137\n"
     ]
    }
   ],
   "source": [
    "# multiple_two()\n",
    "\n",
    "import random\n",
    "import random as mylib\n",
    "import random as rand\n",
    "\n",
    "minval = rand.randint(1,100)\n",
    "maxval = rand.randint(1,100)\n",
    "\n",
    "print(f\"{maxval} + {minval} = {maxval+minval}\")"
   ]
  },
  {
   "cell_type": "markdown",
   "metadata": {},
   "source": [
    "7. Write a function called make_shirt() that accepts a size and the text of a message. The function should print a sentence summarizing the size of the shirt and the message printed on it. The default shirt size is large and default message is 'I love Python!' Make a default size shirt with a message, a medium shirt with the default message, and a shirt of any size with a different message."
   ]
  },
  {
   "cell_type": "code",
   "execution_count": 10,
   "metadata": {},
   "outputs": [
    {
     "name": "stdout",
     "output_type": "stream",
     "text": [
      "Enter Shirt Text: Daddy Is Learning Python\n",
      "Please Enter Shirt Size: Baby Tee\n",
      "Shirt size: Baby Tee\n",
      "Shirt Message: Daddy Is Learning Python\n",
      "\n",
      "Shirt size: Large\n",
      "Shirt Message: I Love Python!\n",
      "\n"
     ]
    }
   ],
   "source": [
    "shrt_txt = str( input( \"Enter Shirt Text: \"))\n",
    "shrt_siz = str( input( \"Please Enter Shirt Size: \"))\n",
    "\n",
    "#function to make a shirt\n",
    "\n",
    "def make_shirt(txt = \"I Love Python!\", size = \"Large\" ):\n",
    "    print(f\"Shirt size: {size}\\nShirt Message: {txt}\")\n",
    "    print()\n",
    "# I wanted to try printing this with multiple variables\n",
    "make_shirt(shrt_txt, shrt_siz)\n",
    "make_shirt()"
   ]
  },
  {
   "cell_type": "markdown",
   "metadata": {},
   "source": [
    "8. Create a function for a multiplication table.  Get a number from a user and then call you function which produces a multiplication table for that number.\n",
    "The output should look something like this:\n",
    "\n",
    "        Enter a number: 3\n",
    "        3 X 1 = 3\n",
    "        3 X 2 = 6\n",
    "        3 X 3 = 9\n",
    "        3 X 4 = 12\n",
    "        3 X 5 = 15\n",
    "        3 X 6 = 18\n",
    "        3 X 7 = 21\n",
    "        3 X 8 = 24\n",
    "        3 X 9 = 27\n",
    "        "
   ]
  },
  {
   "cell_type": "code",
   "execution_count": 18,
   "metadata": {},
   "outputs": [
    {
     "name": "stdout",
     "output_type": "stream",
     "text": [
      "Please Enter Any Single Digit Numer: 1\n"
     ]
    }
   ],
   "source": [
    "###  Quesiton 8 - this was my first attempt and I couldnt understand what I was getting these results\n",
    "\n",
    "num = int(input(\"Please Enter Any Single Digit Numer: \"))\n",
    "\n",
    "def tblMult (num):\n",
    "        print(f\"{num} X 1 = {num*1}\")\n",
    "        print(f\"{num} X 2 = {num*2}\")\n",
    "        print(f\"{num} X 3 = {num*3}\")\n",
    "        print(f\"{num} X 4 = {num*4}\")\n",
    "        print(f\"{num} X 5 = {num*5}\")\n",
    "        print(f\"{num} X 6 = {num*6}\")\n",
    "        print(f\"{num} X 7 = {num*7}\")\n",
    "        print(f\"{num} X 8 = {num*8}\")\n",
    "        print(f\"{num} X 9 = {num*9}\")\n",
    "        return\n",
    "#print tblMult()    "
   ]
  },
  {
   "cell_type": "code",
   "execution_count": 17,
   "metadata": {},
   "outputs": [
    {
     "name": "stdout",
     "output_type": "stream",
     "text": [
      "Enter a number: 1\n",
      "1 X 1 = 1\n",
      "1 X 2 = 2\n",
      "1 X 3 = 3\n",
      "1 X 4 = 4\n",
      "1 X 5 = 5\n",
      "1 X 6 = 6\n",
      "1 X 7 = 7\n",
      "1 X 8 = 8\n",
      "1 X 9 = 9\n"
     ]
    }
   ],
   "source": [
    "# Question 8 - reviewing from HW \n",
    "# I dont understand why function above returned nothing, even when I tried printing outside of the function. I also dont \n",
    "# understand why this function works with calling the variable AFTER the variable has been given a value. Shouldnt it be\n",
    "# given a value first? \n",
    "\n",
    "def multiplication(num):\n",
    "        print(f\"{num} X 1 = {num*1}\")\n",
    "        print(f\"{num} X 2 = {num*2}\")\n",
    "        print(f\"{num} X 3 = {num*3}\")\n",
    "        print(f\"{num} X 4 = {num*4}\")\n",
    "        print(f\"{num} X 5 = {num*5}\")\n",
    "        print(f\"{num} X 6 = {num*6}\")\n",
    "        print(f\"{num} X 7 = {num*7}\")\n",
    "        print(f\"{num} X 8 = {num*8}\")\n",
    "        print(f\"{num} X 9 = {num*9}\")\n",
    "        return\n",
    "no = int(input(\"Enter a number: \"))\n",
    "multiplication(no)"
   ]
  },
  {
   "cell_type": "markdown",
   "metadata": {},
   "source": [
    "9. Write a function that accepts a string and returns a string that is \n",
    "    - without any leading nor trailing blanks\n",
    "    - converts to all capital letters\n",
    "    - and replaces all blanks with a period(.).  \n",
    "\n",
    "Write a program to accept a string from a user then call your function and display the original string and changed string.  \n",
    "\n",
    "The output should look something like this:\n",
    "\n",
    "        Enter a text: may your dreams come true\n",
    "        \n",
    "        Original Text: may your dreams come true\n",
    "        New Text: MAY.YOUR.DREAMS.COME.TRUE"
   ]
  },
  {
   "cell_type": "code",
   "execution_count": null,
   "metadata": {},
   "outputs": [],
   "source": []
  },
  {
   "cell_type": "markdown",
   "metadata": {},
   "source": [
    "10. Write a function that returns a randomly selected character from a passed string. Write a program to accept a string from a user then call your function and display the original string and selected character.\n",
    "\n",
    "The output should look something like this:\n",
    "\n",
    "        Enter a text: functions\n",
    "        Original Text:\tfunctions\n",
    "        Random character:\ts"
   ]
  },
  {
   "cell_type": "code",
   "execution_count": null,
   "metadata": {},
   "outputs": [],
   "source": []
  }
 ],
 "metadata": {
  "kernelspec": {
   "display_name": "Python 3",
   "language": "python",
   "name": "python3"
  },
  "language_info": {
   "codemirror_mode": {
    "name": "ipython",
    "version": 3
   },
   "file_extension": ".py",
   "mimetype": "text/x-python",
   "name": "python",
   "nbconvert_exporter": "python",
   "pygments_lexer": "ipython3",
   "version": "3.7.1"
  }
 },
 "nbformat": 4,
 "nbformat_minor": 4
}
